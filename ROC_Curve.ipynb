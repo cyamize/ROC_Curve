{
  "nbformat": 4,
  "nbformat_minor": 0,
  "metadata": {
    "colab": {
      "name": "ROC Curve.ipynb",
      "provenance": [],
      "authorship_tag": "ABX9TyMvkLilX7w1nndkheh2+HTj",
      "include_colab_link": true
    },
    "kernelspec": {
      "name": "python3",
      "display_name": "Python 3"
    },
    "language_info": {
      "name": "python"
    }
  },
  "cells": [
    {
      "cell_type": "markdown",
      "metadata": {
        "id": "view-in-github",
        "colab_type": "text"
      },
      "source": [
        "<a href=\"https://colab.research.google.com/github/cyamize/ROC_Curve/blob/main/ROC_Curve.ipynb\" target=\"_parent\"><img src=\"https://colab.research.google.com/assets/colab-badge.svg\" alt=\"Open In Colab\"/></a>"
      ]
    },
    {
      "cell_type": "code",
      "metadata": {
        "id": "ENegK3R4K_Fl"
      },
      "source": [
        "import numpy as np\n",
        "import pandas as pd\n",
        "import matplotlib.pyplot as plt\n",
        "import seaborn as sns"
      ],
      "execution_count": 2,
      "outputs": []
    },
    {
      "cell_type": "code",
      "metadata": {
        "id": "GVGa8gAaLPu-"
      },
      "source": [
        "from sklearn.datasets import make_classification\n",
        "from sklearn.neighbors import KNeighborsClassifier\n",
        "from sklearn.ensemble import RandomForestClassifier\n",
        "from sklearn.model_selection import train_test_split\n",
        "from sklearn.metrics import roc_curve\n",
        "from sklearn.metrics import roc_auc_score"
      ],
      "execution_count": 3,
      "outputs": []
    },
    {
      "cell_type": "code",
      "metadata": {
        "id": "CFhxalnaLm_L"
      },
      "source": [
        "# ROC Curve function\n",
        "\n",
        "def roc_curve_fig (fpr, tpr):\n",
        "  #false positive rate, true positive rate의 약자\n",
        "  plt.plot(fpr, tpr, color = 'yellow', label='ROC')\n",
        "  plt.plot([0,1],[0,1], color='darkblue', linestyle = '--')\n",
        "  plt.xlabel('False Positive Rate')\n",
        "  plt.ylabel('True Positive Rate')\n",
        "  plt.title('ROC CURVE')\n",
        "  plt.legend()\n",
        "  plt.show()"
      ],
      "execution_count": 4,
      "outputs": []
    },
    {
      "cell_type": "code",
      "metadata": {
        "id": "aV2i85w-MVzb"
      },
      "source": [
        "# # of sample = 100\n",
        "\n",
        "data_X, class_label = make_classification(n_samples=1000, n_classes=2, weights=[1,1], random_state=1)"
      ],
      "execution_count": 6,
      "outputs": []
    },
    {
      "cell_type": "code",
      "metadata": {
        "id": "OKvc3aa1MpDv"
      },
      "source": [
        "train_X, test_X, train_y, test_y = train_test_split(data_X, class_label, test_size = 0.2, random_state=1)"
      ],
      "execution_count": 7,
      "outputs": []
    },
    {
      "cell_type": "code",
      "metadata": {
        "colab": {
          "base_uri": "https://localhost:8080/"
        },
        "id": "d8gMxLeFNFKx",
        "outputId": "8ac76fa8-7e0d-41f9-a46d-862c8adfd0f7"
      },
      "source": [
        "# model 생성\n",
        "\n",
        "model = RandomForestClassifier()\n",
        "\n",
        "model.fit(train_X, train_y)"
      ],
      "execution_count": 9,
      "outputs": [
        {
          "output_type": "execute_result",
          "data": {
            "text/plain": [
              "RandomForestClassifier(bootstrap=True, ccp_alpha=0.0, class_weight=None,\n",
              "                       criterion='gini', max_depth=None, max_features='auto',\n",
              "                       max_leaf_nodes=None, max_samples=None,\n",
              "                       min_impurity_decrease=0.0, min_impurity_split=None,\n",
              "                       min_samples_leaf=1, min_samples_split=2,\n",
              "                       min_weight_fraction_leaf=0.0, n_estimators=100,\n",
              "                       n_jobs=None, oob_score=False, random_state=None,\n",
              "                       verbose=0, warm_start=False)"
            ]
          },
          "metadata": {
            "tags": []
          },
          "execution_count": 9
        }
      ]
    },
    {
      "cell_type": "code",
      "metadata": {
        "id": "gOmCSTkrNMAV"
      },
      "source": [
        "# 모델 예측\n",
        "\n",
        "prob=model.predict_proba(test_X)"
      ],
      "execution_count": 10,
      "outputs": []
    },
    {
      "cell_type": "code",
      "metadata": {
        "colab": {
          "base_uri": "https://localhost:8080/"
        },
        "id": "NFwz9HjZNr63",
        "outputId": "9cb57ba6-43ec-4fa1-a972-57bdec14e056"
      },
      "source": [
        "prob[:, 1] # positive class만 가져온다는 의미"
      ],
      "execution_count": 11,
      "outputs": [
        {
          "output_type": "execute_result",
          "data": {
            "text/plain": [
              "array([0.05, 0.9 , 0.04, 0.05, 0.97, 0.78, 0.75, 0.94, 0.9 , 0.13, 0.83,\n",
              "       0.94, 0.04, 0.76, 0.83, 0.07, 0.92, 0.06, 0.9 , 0.02, 0.05, 0.2 ,\n",
              "       0.87, 0.83, 0.85, 0.81, 0.02, 0.78, 0.87, 0.85, 0.02, 0.13, 0.81,\n",
              "       0.76, 0.74, 0.05, 0.01, 0.16, 0.93, 0.03, 0.  , 0.72, 0.01, 0.26,\n",
              "       0.79, 0.02, 0.77, 0.91, 0.8 , 0.05, 0.02, 0.67, 0.05, 0.04, 0.08,\n",
              "       0.05, 0.79, 0.94, 0.15, 0.06, 0.52, 0.02, 0.96, 0.19, 0.12, 0.3 ,\n",
              "       0.05, 0.36, 0.85, 0.52, 0.93, 0.02, 0.86, 0.04, 0.04, 0.97, 0.04,\n",
              "       0.99, 0.91, 0.91, 0.07, 0.06, 0.81, 0.92, 0.24, 0.8 , 0.02, 0.03,\n",
              "       0.61, 0.6 , 0.85, 0.92, 0.43, 0.03, 0.92, 0.21, 0.94, 0.83, 0.04,\n",
              "       0.  , 0.84, 0.01, 0.84, 0.07, 0.01, 0.95, 0.08, 0.77, 0.54, 0.79,\n",
              "       0.85, 0.02, 0.85, 0.83, 0.98, 0.95, 0.89, 0.03, 0.95, 0.03, 0.03,\n",
              "       0.04, 0.02, 0.92, 0.77, 0.06, 0.79, 0.93, 0.85, 0.95, 0.88, 0.01,\n",
              "       0.92, 0.71, 0.38, 0.72, 0.06, 0.84, 0.9 , 0.78, 0.86, 0.68, 0.05,\n",
              "       0.02, 0.83, 0.06, 0.88, 0.22, 0.09, 0.82, 0.02, 0.05, 0.96, 0.88,\n",
              "       0.74, 0.03, 0.55, 0.78, 0.01, 0.08, 0.86, 0.66, 0.02, 0.79, 0.3 ,\n",
              "       0.11, 0.87, 0.03, 0.82, 0.04, 0.77, 0.74, 0.02, 0.01, 0.83, 0.87,\n",
              "       0.87, 0.85, 0.88, 0.87, 0.02, 0.05, 0.48, 0.1 , 0.43, 0.5 , 0.01,\n",
              "       0.2 , 0.65, 0.95, 0.07, 0.91, 0.83, 0.85, 0.35, 0.13, 0.1 , 0.98,\n",
              "       0.84, 0.  ])"
            ]
          },
          "metadata": {
            "tags": []
          },
          "execution_count": 11
        }
      ]
    },
    {
      "cell_type": "code",
      "metadata": {
        "id": "-huxedeNN5d2"
      },
      "source": [
        "probs = prob[:, 1] # positive class만 가져온다는 의미"
      ],
      "execution_count": 12,
      "outputs": []
    },
    {
      "cell_type": "code",
      "metadata": {
        "id": "EK4GzpVfOASb"
      },
      "source": [
        "# AUC\n",
        "\n",
        "auc = roc_auc_score(test_y, probs)"
      ],
      "execution_count": 13,
      "outputs": []
    },
    {
      "cell_type": "code",
      "metadata": {
        "id": "x5rhmfUiOJYV"
      },
      "source": [
        "fpr, tpr, thresholds = roc_curve(test_y, probs)"
      ],
      "execution_count": 14,
      "outputs": []
    },
    {
      "cell_type": "code",
      "metadata": {
        "colab": {
          "base_uri": "https://localhost:8080/",
          "height": 295
        },
        "id": "4VI9I_RoOUAN",
        "outputId": "92a526d0-fa0a-4c1d-f886-6091e25a4fee"
      },
      "source": [
        "roc_curve_fig(fpr, tpr)"
      ],
      "execution_count": 17,
      "outputs": [
        {
          "output_type": "display_data",
          "data": {
            "image/png": "[encoded data removed]",
            "text/plain": [
              "<Figure size 432x288 with 1 Axes>"
            ]
          },
          "metadata": {
            "tags": [],
            "needs_background": "light"
          }
        }
      ]
    },
    {
      "cell_type": "code",
      "metadata": {
        "colab": {
          "base_uri": "https://localhost:8080/"
        },
        "id": "SLeydSiYObPg",
        "outputId": "850fc69f-3246-40c5-e0d0-8e371ca27729"
      },
      "source": [
        "auc"
      ],
      "execution_count": 18,
      "outputs": [
        {
          "output_type": "execute_result",
          "data": {
            "text/plain": [
              "0.9652965296529653"
            ]
          },
          "metadata": {
            "tags": []
          },
          "execution_count": 18
        }
      ]
    },
    {
      "cell_type": "code",
      "metadata": {
        "id": "VcPDMl8HOumX"
      },
      "source": [
        ""
      ],
      "execution_count": null,
      "outputs": []
    }
  ]
}